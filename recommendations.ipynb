{
 "cells": [
  {
   "cell_type": "markdown",
   "id": "f4095ae4-7294-4b28-853e-88d235002c97",
   "metadata": {},
   "source": [
    "# Инициализация"
   ]
  },
  {
   "cell_type": "markdown",
   "id": "2f2318d2-9df8-4911-915e-15b725c44f8a",
   "metadata": {},
   "source": [
    "Загружаем библиотеки необходимые для выполнения кода ноутбука."
   ]
  },
  {
   "cell_type": "code",
   "execution_count": 1,
   "id": "662d04e7-1b0b-4e4a-9ddf-4526d7fef119",
   "metadata": {},
   "outputs": [],
   "source": [
    "import logging\n",
    "import matplotlib.pyplot as plt\n",
    "import numpy as np\n",
    "import pandas as pd\n",
    "import matplotlib.pyplot as plt\n",
    "import seaborn as sns\n",
    "import warnings\n",
    "warnings.filterwarnings(\"ignore\")\n",
    "\n",
    "%matplotlib inline\n",
    "%config InlineBackend.figure_format = 'png'\n",
    "%config InlineBackend.figure_format = 'retina'\n",
    "\n",
    "pd.set_option('display.max_columns', None)"
   ]
  },
  {
   "cell_type": "markdown",
   "id": "bf80fbc5-b660-4fac-8fbb-a5cae77313b3",
   "metadata": {},
   "source": [
    "# === ЭТАП 1 ==="
   ]
  },
  {
   "cell_type": "markdown",
   "id": "5263a8b3-fe99-4204-8a2e-105182792c11",
   "metadata": {},
   "source": [
    "# Загрузка первичных данных"
   ]
  },
  {
   "cell_type": "markdown",
   "id": "1b54a6a5-1656-4e3c-99d1-49dc39451d33",
   "metadata": {},
   "source": [
    "Загружаем первичные данные из файлов:\n",
    "- tracks.parquet\n",
    "- catalog_names.parquet\n",
    "- interactions.parquet"
   ]
  },
  {
   "cell_type": "code",
   "execution_count": 2,
   "id": "5d4b8961-3f35-4e58-9d6b-3e2dbd2c4224",
   "metadata": {},
   "outputs": [],
   "source": [
    "tracks = pd.read_parquet('tracks.parquet')\n",
    "catalog_names = pd.read_parquet('catalog_names.parquet')\n",
    "interactions = pd.read_parquet('interactions.parquet')"
   ]
  },
  {
   "cell_type": "markdown",
   "id": "e8f2a1f7-a05f-4f39-af90-5f4018aa6f9d",
   "metadata": {},
   "source": [
    "# Обзор данных"
   ]
  },
  {
   "cell_type": "markdown",
   "id": "46a85307-896c-4fac-9fcf-f0dffa90889e",
   "metadata": {},
   "source": [
    "Проверяем данные, есть ли с ними явные проблемы."
   ]
  },
  {
   "cell_type": "code",
   "execution_count": 3,
   "id": "c9f8f17e-9b56-4f5a-a463-f694a993effb",
   "metadata": {},
   "outputs": [
    {
     "data": {
      "text/html": [
       "<div>\n",
       "<style scoped>\n",
       "    .dataframe tbody tr th:only-of-type {\n",
       "        vertical-align: middle;\n",
       "    }\n",
       "\n",
       "    .dataframe tbody tr th {\n",
       "        vertical-align: top;\n",
       "    }\n",
       "\n",
       "    .dataframe thead th {\n",
       "        text-align: right;\n",
       "    }\n",
       "</style>\n",
       "<table border=\"1\" class=\"dataframe\">\n",
       "  <thead>\n",
       "    <tr style=\"text-align: right;\">\n",
       "      <th></th>\n",
       "      <th>track_id</th>\n",
       "      <th>albums</th>\n",
       "      <th>artists</th>\n",
       "      <th>genres</th>\n",
       "    </tr>\n",
       "  </thead>\n",
       "  <tbody>\n",
       "    <tr>\n",
       "      <th>0</th>\n",
       "      <td>26</td>\n",
       "      <td>[3, 2490753]</td>\n",
       "      <td>[16]</td>\n",
       "      <td>[11, 21]</td>\n",
       "    </tr>\n",
       "    <tr>\n",
       "      <th>1</th>\n",
       "      <td>38</td>\n",
       "      <td>[3, 2490753]</td>\n",
       "      <td>[16]</td>\n",
       "      <td>[11, 21]</td>\n",
       "    </tr>\n",
       "    <tr>\n",
       "      <th>2</th>\n",
       "      <td>135</td>\n",
       "      <td>[12, 214, 2490809]</td>\n",
       "      <td>[84]</td>\n",
       "      <td>[11]</td>\n",
       "    </tr>\n",
       "    <tr>\n",
       "      <th>3</th>\n",
       "      <td>136</td>\n",
       "      <td>[12, 214, 2490809]</td>\n",
       "      <td>[84]</td>\n",
       "      <td>[11]</td>\n",
       "    </tr>\n",
       "    <tr>\n",
       "      <th>4</th>\n",
       "      <td>138</td>\n",
       "      <td>[12, 214, 322, 72275, 72292, 91199, 213505, 24...</td>\n",
       "      <td>[84]</td>\n",
       "      <td>[11]</td>\n",
       "    </tr>\n",
       "  </tbody>\n",
       "</table>\n",
       "</div>"
      ],
      "text/plain": [
       "   track_id                                             albums artists  \\\n",
       "0        26                                       [3, 2490753]    [16]   \n",
       "1        38                                       [3, 2490753]    [16]   \n",
       "2       135                                 [12, 214, 2490809]    [84]   \n",
       "3       136                                 [12, 214, 2490809]    [84]   \n",
       "4       138  [12, 214, 322, 72275, 72292, 91199, 213505, 24...    [84]   \n",
       "\n",
       "     genres  \n",
       "0  [11, 21]  \n",
       "1  [11, 21]  \n",
       "2      [11]  \n",
       "3      [11]  \n",
       "4      [11]  "
      ]
     },
     "execution_count": 3,
     "metadata": {},
     "output_type": "execute_result"
    }
   ],
   "source": [
    "tracks.head(5)"
   ]
  },
  {
   "cell_type": "code",
   "execution_count": 4,
   "id": "efd2e2eb-3bec-4ce1-87ac-232bab8bc0d0",
   "metadata": {},
   "outputs": [
    {
     "data": {
      "text/html": [
       "<div>\n",
       "<style scoped>\n",
       "    .dataframe tbody tr th:only-of-type {\n",
       "        vertical-align: middle;\n",
       "    }\n",
       "\n",
       "    .dataframe tbody tr th {\n",
       "        vertical-align: top;\n",
       "    }\n",
       "\n",
       "    .dataframe thead th {\n",
       "        text-align: right;\n",
       "    }\n",
       "</style>\n",
       "<table border=\"1\" class=\"dataframe\">\n",
       "  <thead>\n",
       "    <tr style=\"text-align: right;\">\n",
       "      <th></th>\n",
       "      <th>id</th>\n",
       "      <th>type</th>\n",
       "      <th>name</th>\n",
       "    </tr>\n",
       "  </thead>\n",
       "  <tbody>\n",
       "    <tr>\n",
       "      <th>0</th>\n",
       "      <td>3</td>\n",
       "      <td>album</td>\n",
       "      <td>Taller Children</td>\n",
       "    </tr>\n",
       "    <tr>\n",
       "      <th>1</th>\n",
       "      <td>12</td>\n",
       "      <td>album</td>\n",
       "      <td>Wild Young Hearts</td>\n",
       "    </tr>\n",
       "    <tr>\n",
       "      <th>2</th>\n",
       "      <td>13</td>\n",
       "      <td>album</td>\n",
       "      <td>Lonesome Crow</td>\n",
       "    </tr>\n",
       "    <tr>\n",
       "      <th>3</th>\n",
       "      <td>17</td>\n",
       "      <td>album</td>\n",
       "      <td>Graffiti Soul</td>\n",
       "    </tr>\n",
       "    <tr>\n",
       "      <th>4</th>\n",
       "      <td>26</td>\n",
       "      <td>album</td>\n",
       "      <td>Blues Six Pack</td>\n",
       "    </tr>\n",
       "  </tbody>\n",
       "</table>\n",
       "</div>"
      ],
      "text/plain": [
       "   id   type               name\n",
       "0   3  album    Taller Children\n",
       "1  12  album  Wild Young Hearts\n",
       "2  13  album      Lonesome Crow\n",
       "3  17  album      Graffiti Soul\n",
       "4  26  album     Blues Six Pack"
      ]
     },
     "execution_count": 4,
     "metadata": {},
     "output_type": "execute_result"
    }
   ],
   "source": [
    "catalog_names.head(5)"
   ]
  },
  {
   "cell_type": "code",
   "execution_count": 5,
   "id": "49e3591b-649e-4a76-bfed-c3c5d8a2baa0",
   "metadata": {},
   "outputs": [
    {
     "data": {
      "text/html": [
       "<div>\n",
       "<style scoped>\n",
       "    .dataframe tbody tr th:only-of-type {\n",
       "        vertical-align: middle;\n",
       "    }\n",
       "\n",
       "    .dataframe tbody tr th {\n",
       "        vertical-align: top;\n",
       "    }\n",
       "\n",
       "    .dataframe thead th {\n",
       "        text-align: right;\n",
       "    }\n",
       "</style>\n",
       "<table border=\"1\" class=\"dataframe\">\n",
       "  <thead>\n",
       "    <tr style=\"text-align: right;\">\n",
       "      <th></th>\n",
       "      <th>user_id</th>\n",
       "      <th>track_id</th>\n",
       "      <th>track_seq</th>\n",
       "      <th>started_at</th>\n",
       "    </tr>\n",
       "  </thead>\n",
       "  <tbody>\n",
       "    <tr>\n",
       "      <th>0</th>\n",
       "      <td>0</td>\n",
       "      <td>99262</td>\n",
       "      <td>1</td>\n",
       "      <td>2022-07-17</td>\n",
       "    </tr>\n",
       "    <tr>\n",
       "      <th>1</th>\n",
       "      <td>0</td>\n",
       "      <td>589498</td>\n",
       "      <td>2</td>\n",
       "      <td>2022-07-19</td>\n",
       "    </tr>\n",
       "    <tr>\n",
       "      <th>2</th>\n",
       "      <td>0</td>\n",
       "      <td>590262</td>\n",
       "      <td>3</td>\n",
       "      <td>2022-07-21</td>\n",
       "    </tr>\n",
       "    <tr>\n",
       "      <th>3</th>\n",
       "      <td>0</td>\n",
       "      <td>590303</td>\n",
       "      <td>4</td>\n",
       "      <td>2022-07-22</td>\n",
       "    </tr>\n",
       "    <tr>\n",
       "      <th>4</th>\n",
       "      <td>0</td>\n",
       "      <td>590692</td>\n",
       "      <td>5</td>\n",
       "      <td>2022-07-22</td>\n",
       "    </tr>\n",
       "  </tbody>\n",
       "</table>\n",
       "</div>"
      ],
      "text/plain": [
       "   user_id  track_id  track_seq started_at\n",
       "0        0     99262          1 2022-07-17\n",
       "1        0    589498          2 2022-07-19\n",
       "2        0    590262          3 2022-07-21\n",
       "3        0    590303          4 2022-07-22\n",
       "4        0    590692          5 2022-07-22"
      ]
     },
     "execution_count": 5,
     "metadata": {},
     "output_type": "execute_result"
    }
   ],
   "source": [
    "interactions.head(5)"
   ]
  },
  {
   "cell_type": "code",
   "execution_count": 6,
   "id": "4c254c32-b0b3-49d2-9ee7-dc87b47ba66e",
   "metadata": {},
   "outputs": [
    {
     "name": "stdout",
     "output_type": "stream",
     "text": [
      "Инфо по tracks\n",
      "<class 'pandas.core.frame.DataFrame'>\n",
      "RangeIndex: 1000000 entries, 0 to 999999\n",
      "Data columns (total 4 columns):\n",
      " #   Column    Non-Null Count    Dtype \n",
      "---  ------    --------------    ----- \n",
      " 0   track_id  1000000 non-null  int64 \n",
      " 1   albums    1000000 non-null  object\n",
      " 2   artists   1000000 non-null  object\n",
      " 3   genres    1000000 non-null  object\n",
      "dtypes: int64(1), object(3)\n",
      "memory usage: 30.5+ MB\n",
      "None\n",
      "\n",
      "\n",
      "Инфо по catalog_names\n",
      "<class 'pandas.core.frame.DataFrame'>\n",
      "RangeIndex: 1812471 entries, 0 to 1812470\n",
      "Data columns (total 3 columns):\n",
      " #   Column  Dtype \n",
      "---  ------  ----- \n",
      " 0   id      int64 \n",
      " 1   type    object\n",
      " 2   name    object\n",
      "dtypes: int64(1), object(2)\n",
      "memory usage: 41.5+ MB\n",
      "None\n",
      "\n",
      "\n",
      "Инфо по interactions\n",
      "<class 'pandas.core.frame.DataFrame'>\n",
      "Index: 222629898 entries, 0 to 291\n",
      "Data columns (total 4 columns):\n",
      " #   Column      Dtype         \n",
      "---  ------      -----         \n",
      " 0   user_id     int32         \n",
      " 1   track_id    int32         \n",
      " 2   track_seq   int16         \n",
      " 3   started_at  datetime64[ns]\n",
      "dtypes: datetime64[ns](1), int16(1), int32(2)\n",
      "memory usage: 5.4 GB\n",
      "None\n"
     ]
    }
   ],
   "source": [
    "print(\"Инфо по tracks\")\n",
    "print(tracks.info())\n",
    "print(\"\\n\")\n",
    "print(\"Инфо по catalog_names\")\n",
    "print(catalog_names.info())\n",
    "print(\"\\n\")\n",
    "print(\"Инфо по interactions\")\n",
    "print(interactions.info())"
   ]
  },
  {
   "cell_type": "code",
   "execution_count": 7,
   "id": "6a9d4af3-9b5d-448b-a13a-c96488554a63",
   "metadata": {},
   "outputs": [
    {
     "name": "stdout",
     "output_type": "stream",
     "text": [
      "1000000\n",
      "1776697\n"
     ]
    },
    {
     "name": "stdout",
     "output_type": "stream",
     "text": [
      "1373221\n"
     ]
    }
   ],
   "source": [
    "print(tracks['track_id'].nunique())\n",
    "print(catalog_names['id'].nunique())\n",
    "print(interactions['user_id'].nunique())"
   ]
  },
  {
   "cell_type": "markdown",
   "id": "e89627b4-c697-4501-88d1-20cc5d385b72",
   "metadata": {},
   "source": [
    "### Таблицы большие, нужно экономить память, поэтому поменяем какие-то типы данных"
   ]
  },
  {
   "cell_type": "code",
   "execution_count": 8,
   "id": "2eeb4ca1-e8b5-410c-a183-27cc58f52bd8",
   "metadata": {},
   "outputs": [],
   "source": [
    "interactions['track_seq'] = interactions['track_seq'].astype('int16')"
   ]
  },
  {
   "cell_type": "markdown",
   "id": "f6abcd96-a77f-4785-b957-2ea9b82d9a1e",
   "metadata": {},
   "source": [
    "## Посмотрим на пропуски и на явные (неявные пока не берем) дубликаты"
   ]
  },
  {
   "cell_type": "code",
   "execution_count": 9,
   "id": "287661b4-2380-4807-ae63-5d88a06e7ac2",
   "metadata": {},
   "outputs": [
    {
     "name": "stdout",
     "output_type": "stream",
     "text": [
      "Пропуски в tracks\n",
      "track_id    0\n",
      "albums      0\n",
      "artists     0\n",
      "genres      0\n",
      "dtype: int64\n",
      "\n",
      "\n",
      "Пропуски в catalog_names\n",
      "id      0\n",
      "type    0\n",
      "name    0\n",
      "dtype: int64\n",
      "\n",
      "\n",
      "Пропуски в interactions\n"
     ]
    },
    {
     "name": "stdout",
     "output_type": "stream",
     "text": [
      "user_id       0\n",
      "track_id      0\n",
      "track_seq     0\n",
      "started_at    0\n",
      "dtype: int64\n"
     ]
    }
   ],
   "source": [
    "print(\"Пропуски в tracks\")\n",
    "print(tracks.isna().sum())\n",
    "print(\"\\n\")\n",
    "print(\"Пропуски в catalog_names\")\n",
    "print(catalog_names.isna().sum())\n",
    "print(\"\\n\")\n",
    "print(\"Пропуски в interactions\")\n",
    "print(interactions.isna().sum())"
   ]
  },
  {
   "cell_type": "code",
   "execution_count": 10,
   "id": "3fe5cf6c-e8ef-425e-b3ff-ff027653781e",
   "metadata": {},
   "outputs": [
    {
     "name": "stdout",
     "output_type": "stream",
     "text": [
      "1000000\n",
      "1812471\n",
      "222629898\n"
     ]
    }
   ],
   "source": [
    "print(len(tracks))\n",
    "print(len(catalog_names))\n",
    "print(len(interactions))"
   ]
  },
  {
   "cell_type": "code",
   "execution_count": 11,
   "id": "faac87e2-565e-40a8-aeca-d8904f0e4495",
   "metadata": {},
   "outputs": [],
   "source": [
    "# Функция для очистки от дубликатов, явных и неявных. \n",
    "def clean_duplicates(df, subset_list=None):\n",
    "    \"\"\"\n",
    "    df: DataFrame для очистки\n",
    "    subset_list: пока не подаем, т к по мсыслу наличие таких дубликатов возможно\n",
    "    \"\"\"\n",
    "    #Удаляем явные дубликаты по всем колонкам\n",
    "    # Преобразуем object-колонки с массивами в кортежи\n",
    "    for col in df.select_dtypes(include=['object']):\n",
    "        df[col] = df[col].apply(lambda x: tuple(x) if isinstance(x, (list, np.ndarray)) else x)\n",
    "    \n",
    "    df.drop_duplicates(inplace=True)\n",
    "\n",
    "    \n",
    "    # Удаляем неявные дубликаты по subset\n",
    "    if subset_list:\n",
    "        for subset in subset_list:\n",
    "            # Преобразуем массивы только в subset-колонках\n",
    "            for col in subset:\n",
    "                if col in df.columns and df[col].dtype == 'object':\n",
    "                    df[col] = df[col].apply(lambda x: tuple(x) if isinstance(x, (list, np.ndarray)) else x)\n",
    "            df.drop_duplicates(subset=subset, inplace=True)\n",
    "\n"
   ]
  },
  {
   "cell_type": "code",
   "execution_count": 12,
   "id": "9d8cbfde-2a87-486b-b402-8432b64f28e0",
   "metadata": {},
   "outputs": [],
   "source": [
    "clean_duplicates(tracks)\n",
    "clean_duplicates(catalog_names)\n",
    "clean_duplicates(interactions)\n"
   ]
  },
  {
   "cell_type": "code",
   "execution_count": 13,
   "id": "9e59bd15",
   "metadata": {},
   "outputs": [
    {
     "name": "stdout",
     "output_type": "stream",
     "text": [
      "1000000\n",
      "1812471\n",
      "222629898\n"
     ]
    }
   ],
   "source": [
    "print(len(tracks))\n",
    "print(len(catalog_names))\n",
    "print(len(interactions))"
   ]
  },
  {
   "cell_type": "markdown",
   "id": "4758d908",
   "metadata": {},
   "source": [
    "Далее нужно сохранить очищенный от дублей фрейм, очистить память от старого дф и других переменных, т. е. можно сделать Restart Kernel.\n"
   ]
  },
  {
   "cell_type": "code",
   "execution_count": 14,
   "id": "93fa16f0",
   "metadata": {},
   "outputs": [],
   "source": [
    "# Сохранение \n",
    "interactions.to_parquet('interactions_clean.parquet', index=False)\n",
    "tracks.to_parquet('tracks_clean.parquet', index=False)\n",
    "catalog_names.to_parquet('catalog_names_clean.parquet', index=False)\n"
   ]
  },
  {
   "cell_type": "markdown",
   "id": "93fa16f0",
   "metadata": {},
   "source": [
    "Делаем Restart Kernel"
   ]
  },
  {
   "cell_type": "code",
   "execution_count": 1,
   "id": "5b5dff5a",
   "metadata": {},
   "outputs": [],
   "source": [
    "import logging\n",
    "import matplotlib.pyplot as plt\n",
    "import numpy as np\n",
    "import pandas as pd\n",
    "import matplotlib.pyplot as plt\n",
    "import seaborn as sns\n",
    "import warnings\n",
    "warnings.filterwarnings(\"ignore\")\n",
    "\n",
    "%matplotlib inline\n",
    "%config InlineBackend.figure_format = 'png'\n",
    "%config InlineBackend.figure_format = 'retina'\n",
    "\n",
    "pd.set_option('display.max_columns', None)"
   ]
  },
  {
   "cell_type": "code",
   "execution_count": 2,
   "id": "cbc88f7d",
   "metadata": {},
   "outputs": [],
   "source": [
    "tracks = pd.read_parquet('tracks_clean.parquet')\n",
    "catalog_names = pd.read_parquet('catalog_names_clean.parquet')\n",
    "interactions = pd.read_parquet('interactions_clean.parquet')"
   ]
  },
  {
   "cell_type": "code",
   "execution_count": 3,
   "id": "d9389d24",
   "metadata": {},
   "outputs": [
    {
     "name": "stdout",
     "output_type": "stream",
     "text": [
      "1000000\n",
      "1812471\n",
      "222629898\n"
     ]
    }
   ],
   "source": [
    "print(len(tracks))\n",
    "print(len(catalog_names))\n",
    "print(len(interactions))"
   ]
  },
  {
   "cell_type": "markdown",
   "id": "6d0cbafd",
   "metadata": {},
   "source": [
    "Далее будем резать датафреймы, так как не хватает памяти работать с более чем 200 000 000 строк. Но сначала нужно проверить, есть ли треки в tracks, которые никто не слушал."
   ]
  },
  {
   "cell_type": "code",
   "execution_count": 4,
   "id": "82109d96",
   "metadata": {},
   "outputs": [
    {
     "name": "stdout",
     "output_type": "stream",
     "text": [
      "Треков в каталоге: 1,000,000\n",
      "Треков с прослушиваниями: 1,000,000\n",
      "Треков БЕЗ прослушиваний: 0\n",
      "Процент неслушанных: 0.0%\n"
     ]
    }
   ],
   "source": [
    "listened_tracks = set(interactions['track_id'].unique())\n",
    "catalog_tracks = set(tracks['track_id'].unique())\n",
    "\n",
    "unlistened_tracks = catalog_tracks - listened_tracks\n",
    "\n",
    "print(f\"Треков в каталоге: {len(catalog_tracks):,}\")\n",
    "print(f\"Треков с прослушиваниями: {len(listened_tracks):,}\")\n",
    "print(f\"Треков БЕЗ прослушиваний: {len(unlistened_tracks):,}\")\n",
    "print(f\"Процент неслушанных: {len(unlistened_tracks)/len(catalog_tracks)*100:.1f}%\")"
   ]
  },
  {
   "cell_type": "markdown",
   "id": "e84748e4",
   "metadata": {},
   "source": [
    "Немного порежем датасеты, так как с ресурсами сложности. Полный датасет не получается использвать с текущей ВМ."
   ]
  },
  {
   "cell_type": "code",
   "execution_count": 5,
   "id": "11f59662",
   "metadata": {},
   "outputs": [
    {
     "name": "stdout",
     "output_type": "stream",
     "text": [
      "Пользователей: 100,000\n",
      "Прослушиваний: 16,272,202\n",
      "Уникальных треков: 724,595\n",
      "Покрытие каталога: 72.5%\n"
     ]
    }
   ],
   "source": [
    "# Берём случайную выборку пользователей\n",
    "n_users = 100_000 \n",
    "sampled_users = interactions['user_id'].drop_duplicates().sample(n=n_users, random_state=42)\n",
    "\n",
    "# Берём ВСЕ их прослушивания\n",
    "interactions= interactions[interactions['user_id'].isin(sampled_users)].copy()\n",
    "\n",
    "print(f\"Пользователей: {interactions['user_id'].nunique():,}\")\n",
    "print(f\"Прослушиваний: {len(interactions):,}\")\n",
    "print(f\"Уникальных треков: {interactions['track_id'].nunique():,}\")\n",
    "\n",
    "# Проверяем покрытие каталога\n",
    "listened_tracks = set(interactions['track_id'].unique())\n",
    "catalog_tracks = set(tracks['track_id'].unique())\n",
    "print(f\"Покрытие каталога: {len(listened_tracks)/len(catalog_tracks)*100:.1f}%\")"
   ]
  },
  {
   "cell_type": "code",
   "execution_count": 6,
   "id": "02c085f9-ebb8-47dd-a4d6-cf590e658d2e",
   "metadata": {},
   "outputs": [
    {
     "name": "stdout",
     "output_type": "stream",
     "text": [
      "Треки без исполнителей: 0\n",
      "Треки без альбомов: 0\n",
      "Треки без жанров: 0\n"
     ]
    }
   ],
   "source": [
    "print(\"Треки без исполнителей:\",\n",
    "      tracks['artists'].isnull().sum() + tracks['artists'].apply(lambda x: len(x) == 0 if isinstance(x, (list, str)) else False).sum())\n",
    "\n",
    "print(\"Треки без альбомов:\",\n",
    "      tracks['albums'].isnull().sum() + tracks['albums'].apply(lambda x: len(x) == 0 if isinstance(x, (list, str)) else False).sum())\n",
    "\n",
    "print(\"Треки без жанров:\",\n",
    "      tracks['genres'].isnull().sum() + tracks['genres'].apply(lambda x: len(x) == 0 if isinstance(x, (list, str)) else False).sum())\n"
   ]
  },
  {
   "cell_type": "code",
   "execution_count": 7,
   "id": "8aab617f-7e95-46b2-a0f5-5ec399320ae3",
   "metadata": {},
   "outputs": [
    {
     "name": "stdout",
     "output_type": "stream",
     "text": [
      "Прослушиваний треков без упоминания автора: 21,281 (0.13%)\n"
     ]
    }
   ],
   "source": [
    "unknown_tracks = tracks[(tracks['artists'].str.len() == 0) | (tracks['artists'].isnull())]['track_id']\n",
    "unknown_listens = interactions['track_id'].isin(unknown_tracks).sum()\n",
    "total_listens = len(interactions)\n",
    "print(f\"Прослушиваний треков без упоминания автора: {unknown_listens:,} ({unknown_listens/total_listens*100:.2f}%)\")"
   ]
  },
  {
   "cell_type": "code",
   "execution_count": 8,
   "id": "888c8f96-0b41-4074-a037-8a657fb066bf",
   "metadata": {},
   "outputs": [
    {
     "name": "stdout",
     "output_type": "stream",
     "text": [
      "Прослушиваний треков без жанров: 11,309 (0.07%)\n"
     ]
    }
   ],
   "source": [
    "no_genre_tracks = tracks[(tracks['genres'].str.len() == 0) | (tracks['genres'].isnull())]['track_id']\n",
    "no_genre_listens = interactions['track_id'].isin(no_genre_tracks).sum()\n",
    "print(f\"Прослушиваний треков без жанров: {no_genre_listens:,} ({no_genre_listens/len(interactions)*100:.2f}%)\")"
   ]
  },
  {
   "cell_type": "code",
   "execution_count": 9,
   "id": "d82bc66f",
   "metadata": {},
   "outputs": [],
   "source": [
    "del unknown_tracks\n",
    "del unknown_listens\n",
    "del total_listens\n",
    "del no_genre_tracks\n",
    "del no_genre_listens"
   ]
  },
  {
   "cell_type": "markdown",
   "id": "8c420fe4-d0fe-479f-82bb-5f2c210e48f5",
   "metadata": {},
   "source": [
    "## Промежуточный вывод\n",
    "\n",
    "Игнорируем все три категории без метаданных:\n",
    "\n",
    "Треки без исполнителей: 0.13% прослушиваний\n",
    "Треки без жанров: 0.07% прослушиваний\n",
    "Треки без альбомов: ничтожно мало\n",
    "\n",
    "Суммарно это <0.2% данных, не повлияет на качество рекомендаций.\n",
    "\n",
    "Посмотрим, есть ли аномалии в датах прослушивания, количестве секунд прослушиваний"
   ]
  },
  {
   "cell_type": "code",
   "execution_count": 10,
   "id": "a5ec2c7c-a338-4537-8544-dbabee7d6fa8",
   "metadata": {},
   "outputs": [
    {
     "name": "stdout",
     "output_type": "stream",
     "text": [
      "Найдено ботов: 0\n",
      "Прослушиваний потенциальных ботов: 0 (0.00%)\n"
     ]
    }
   ],
   "source": [
    "# Ищем пользователей, у которых очень много треков в один день\n",
    "daily_tracks = interactions.groupby(['user_id', 'started_at']).size().reset_index(name='tracks_per_day')\n",
    "\n",
    "# Находим максимум треков в день для каждого пользователя\n",
    "max_daily = daily_tracks.groupby('user_id')['tracks_per_day'].max()\n",
    "\n",
    "# Боты это те кто слушает >250 треков в день (физически невозможно столько наслушать). Начнем с этой йифры, если будут такие, пойдем смотреть дальше.\n",
    "bots = max_daily[max_daily > 250].index\n",
    "print(f\"Найдено ботов: {len(bots):,}\")\n",
    "print(f\"Прослушиваний потенциальных ботов: {interactions['user_id'].isin(bots).sum():,} ({interactions['user_id'].isin(bots).sum()/len(interactions)*100:.2f}%)\")"
   ]
  },
  {
   "cell_type": "markdown",
   "id": "920cf60d",
   "metadata": {},
   "source": [
    "Посмотрим, есть ли резкий скачки по временной шкале"
   ]
  },
  {
   "cell_type": "code",
   "execution_count": 11,
   "id": "5c1c3056-9d44-4b0d-9aaf-2f786a4bdecf",
   "metadata": {},
   "outputs": [
    {
     "name": "stdout",
     "output_type": "stream",
     "text": [
      "День с максимальным падением: 2022-12-31 00:00:00\n",
      "Падение на: -25,085 прослушиваний\n",
      "До: 36,696, После: 11,611\n"
     ]
    }
   ],
   "source": [
    "# Считаем прослушивания по дням\n",
    "daily_listens = interactions.groupby('started_at').size().reset_index(name='listens')\n",
    "daily_listens = daily_listens.sort_values('started_at')\n",
    "\n",
    "# Находим день с максимальным падением\n",
    "daily_listens['listens_diff'] = daily_listens['listens'].diff()\n",
    "biggest_drop = daily_listens.loc[daily_listens['listens_diff'].idxmin()]\n",
    "\n",
    "print(f\"День с максимальным падением: {biggest_drop['started_at']}\")\n",
    "print(f\"Падение на: {biggest_drop['listens_diff']:,.0f} прослушиваний\")\n",
    "print(f\"До: {daily_listens.loc[biggest_drop.name-1, 'listens']:,.0f}, После: {biggest_drop['listens']:,.0f}\")\n"
   ]
  },
  {
   "cell_type": "code",
   "execution_count": 12,
   "id": "513871d9",
   "metadata": {},
   "outputs": [
    {
     "name": "stdout",
     "output_type": "stream",
     "text": [
      "2022-12-31 00:00:00\n",
      "2022-01-01 00:00:00\n"
     ]
    }
   ],
   "source": [
    "print(interactions['started_at'].max())\n",
    "print(interactions['started_at'].min())"
   ]
  },
  {
   "cell_type": "markdown",
   "id": "07612514",
   "metadata": {},
   "source": [
    "Возможно, в новогодние праздничные дни слушали меньше музыки, такое падение нормально. Не будем срезать этот день."
   ]
  },
  {
   "cell_type": "code",
   "execution_count": 13,
   "id": "602dab04",
   "metadata": {},
   "outputs": [
    {
     "name": "stdout",
     "output_type": "stream",
     "text": [
      "Прослушиваний несуществующих треков: 0 (0.00%)\n"
     ]
    }
   ],
   "source": [
    "# Треки в interactions, которых нет в tracks\n",
    "missing_tracks = ~interactions['track_id'].isin(tracks['track_id'])\n",
    "print(f\"Прослушиваний несуществующих треков: {missing_tracks.sum():,} ({missing_tracks.sum()/len(interactions)*100:.2f}%)\")"
   ]
  },
  {
   "cell_type": "code",
   "execution_count": 14,
   "id": "a4ce0cc9",
   "metadata": {},
   "outputs": [
    {
     "name": "stdout",
     "output_type": "stream",
     "text": [
      "Пользователей с 1 прослушиванием: 58 (0.06%)\n",
      "Пользователей с 0 прослушиванием: 0 (0.00%)\n"
     ]
    }
   ],
   "source": [
    "user_counts = interactions.groupby('user_id').size()\n",
    "print(f\"Пользователей с 1 прослушиванием: {(user_counts == 1).sum():,} ({(user_counts == 1).sum()/len(user_counts)*100:.2f}%)\")\n",
    "print(f\"Пользователей с 0 прослушиванием: {(user_counts == 0).sum():,} ({(user_counts == 0).sum()/len(user_counts)*100:.2f}%)\")"
   ]
  },
  {
   "cell_type": "code",
   "execution_count": 15,
   "id": "47e091ef",
   "metadata": {},
   "outputs": [],
   "source": [
    "# Сохранение\n",
    "interactions.to_parquet('interactions_clean.parquet', index=False)\n",
    "tracks.to_parquet('tracks_clean.parquet', index=False)\n",
    "catalog_names.to_parquet('catalog_names_clean.parquet', index=False)\n"
   ]
  },
  {
   "cell_type": "markdown",
   "id": "318b573a-9e2d-4808-95db-60cfb8bbdb73",
   "metadata": {
    "editable": true,
    "slideshow": {
     "slide_type": ""
    },
    "tags": []
   },
   "source": [
    "# Выводы"
   ]
  },
  {
   "cell_type": "markdown",
   "id": "caa96e12-36a8-4401-8f11-98627a49ae9d",
   "metadata": {},
   "source": [
    "Приведём выводы по первому знакомству с данными:\n",
    "- Явных из ряда вон проблем в данных нету. Были явные дубли, они были удалены.\n",
    "- Выбросы похожи на реальных пользователей, фанатов музыки. Их поведение не похоже на ботское, поэтому не удаляли. Ниже проанализируем по квантилям количество треков на пользователя.\n",
    "- Треки с неизвестными исполнителями, альбомами, жанрами имеются, но их ничтожно мало.\n",
    "- Были изменены типы данных на менее объемные по памяти, чтобы сэкономить ресурсы.\n",
    "- Временную шкалу не трогаем, тот факт, что в последние ни декабря слушали меньше музыки, кажется нормальным.\n",
    "- в датафрейме с треками нет треков, которые никто не слушал, то есть, все эти треки нам пригодятся.\n",
    "- Около 40% всех прослушиваний это 1% самых популярных треков, что тоже нормально.\n",
    "- Совсем неактивных пользователей ничтожно мало, и мы их оставляем.\n",
    "\n",
    "По всем этим причинам было принят решение не делать с данными ничего."
   ]
  },
  {
   "cell_type": "markdown",
   "id": "7bc3296b-eba6-4333-a78d-b9304aa87e3d",
   "metadata": {},
   "source": [
    "# === ЭТАП 2 ==="
   ]
  },
  {
   "cell_type": "markdown",
   "id": "68e73960-fd38-4e15-8db0-9a25c35dfd25",
   "metadata": {},
   "source": [
    "# EDA"
   ]
  },
  {
   "cell_type": "markdown",
   "id": "e21c2612",
   "metadata": {},
   "source": [
    "Здесь можно сделать Restart Kernel и снова загрузить данные. "
   ]
  },
  {
   "cell_type": "code",
   "execution_count": 1,
   "id": "ab5d6501",
   "metadata": {},
   "outputs": [],
   "source": [
    "import logging\n",
    "import matplotlib.pyplot as plt\n",
    "import numpy as np\n",
    "import pandas as pd\n",
    "import matplotlib.pyplot as plt\n",
    "import seaborn as sns\n",
    "import warnings\n",
    "warnings.filterwarnings(\"ignore\")\n",
    "\n",
    "%matplotlib inline\n",
    "%config InlineBackend.figure_format = 'png'\n",
    "%config InlineBackend.figure_format = 'retina'\n",
    "\n",
    "pd.set_option('display.max_columns', None)"
   ]
  },
  {
   "cell_type": "code",
   "execution_count": 2,
   "id": "e680612b",
   "metadata": {},
   "outputs": [],
   "source": [
    "tracks = pd.read_parquet('tracks_clean.parquet')\n",
    "catalog_names = pd.read_parquet('catalog_names_clean.parquet')\n",
    "interactions = pd.read_parquet('interactions_clean.parquet')"
   ]
  },
  {
   "cell_type": "markdown",
   "id": "a30e823e-8e0f-4a76-a02e-8d1ba8bf0f8a",
   "metadata": {},
   "source": [
    "### Распределение количества прослушанных треков."
   ]
  },
  {
   "cell_type": "code",
   "execution_count": 3,
   "id": "9bf5eaba-35f7-4da7-be59-9ab4a34b2423",
   "metadata": {},
   "outputs": [
    {
     "data": {
      "image/png": "[encoded data removed]",
      "text/plain": [
       "<Figure size 1400x500 with 2 Axes>"
      ]
     },
     "metadata": {
      "image/png": {
       "height": 488,
       "width": 1389
      }
     },
     "output_type": "display_data"
    },
    {
     "name": "stdout",
     "output_type": "stream",
     "text": [
      "Статистика:\n",
      "count    100000.000000\n",
      "mean        162.722020\n",
      "std         347.889167\n",
      "min           1.000000\n",
      "25%          22.000000\n",
      "50%          55.000000\n",
      "75%         156.000000\n",
      "max        9965.000000\n",
      "Name: track_id, dtype: float64\n"
     ]
    }
   ],
   "source": [
    "user_track_counts = interactions.groupby('user_id')['track_id'].nunique()\n",
    "\n",
    "fig, axes = plt.subplots(1, 2, figsize=(14, 5))\n",
    "\n",
    "# Гистограмма\n",
    "axes[0].hist(user_track_counts, bins=100, edgecolor='black')\n",
    "axes[0].set_xlabel('Количество уникальных треков')\n",
    "axes[0].set_ylabel('Количество пользователей')\n",
    "axes[0].set_title('Распределение: сколько треков слушал каждый пользователь')\n",
    "axes[0].set_yscale('log')\n",
    "\n",
    "# Boxplot\n",
    "axes[1].boxplot(user_track_counts)\n",
    "axes[1].set_ylabel('Количество уникальных треков')\n",
    "axes[1].set_title('Boxplot: треков на пользователя')\n",
    "\n",
    "plt.tight_layout()\n",
    "plt.show()\n",
    "\n",
    "print(\"Статистика:\")\n",
    "print(user_track_counts.describe())"
   ]
  },
  {
   "cell_type": "code",
   "execution_count": 4,
   "id": "9f3c67fa",
   "metadata": {},
   "outputs": [],
   "source": [
    "del user_track_counts"
   ]
  },
  {
   "cell_type": "code",
   "execution_count": 5,
   "id": "78be563b",
   "metadata": {},
   "outputs": [
    {
     "name": "stdout",
     "output_type": "stream",
     "text": [
      "0.900    1137.00\n",
      "0.950    1803.00\n",
      "0.990    3999.99\n",
      "0.999    8037.00\n",
      "Name: track_seq, dtype: float64\n"
     ]
    }
   ],
   "source": [
    "# Проверим распределение прослушиваний треков на пользователя по квантилям\n",
    "print(interactions['track_seq'].quantile([0.90, 0.95, 0.99, 0.999]))"
   ]
  },
  {
   "cell_type": "markdown",
   "id": "9f3b1c69",
   "metadata": {},
   "source": [
    "- 90% пользователей прослушали около 1152 треков,\n",
    "- 95%  около 1837 треков,\n",
    "- 99% около  4213 треков,\n",
    "- 99.9% около 8090 треков\n",
    "\n",
    "\n",
    "\n",
    "Максимум: 16637 треков\n",
    "\n",
    "Распределение нормальное."
   ]
  },
  {
   "cell_type": "markdown",
   "id": "d765519a-18dd-4d30-9e29-cc2d84cacd79",
   "metadata": {},
   "source": [
    "### Наиболее популярные треки"
   ]
  },
  {
   "cell_type": "code",
   "execution_count": 6,
   "id": "aecaf630-fde0-4860-b84a-42c933a9606e",
   "metadata": {},
   "outputs": [
    {
     "name": "stdout",
     "output_type": "stream",
     "text": [
      "\n",
      "Топ-1% треков покрывают 38.7% прослушиваний\n"
     ]
    }
   ],
   "source": [
    "track_popularity = interactions['track_id'].value_counts()\n",
    "print(f\"\\nТоп-1% треков покрывают {track_popularity.head(int(len(track_popularity)*0.01)).sum()/len(interactions)*100:.1f}% прослушиваний\")"
   ]
  },
  {
   "cell_type": "code",
   "execution_count": 7,
   "id": "20d03803",
   "metadata": {},
   "outputs": [],
   "source": [
    "del track_popularity"
   ]
  },
  {
   "cell_type": "code",
   "execution_count": 8,
   "id": "d0089cfe",
   "metadata": {},
   "outputs": [
    {
     "data": {
      "image/png": "[encoded data removed]",
      "text/plain": [
       "<Figure size 1200x800 with 1 Axes>"
      ]
     },
     "metadata": {
      "image/png": {
       "height": 789,
       "width": 1189
      }
     },
     "output_type": "display_data"
    },
    {
     "name": "stdout",
     "output_type": "stream",
     "text": [
      "Самый популярный трек: 8,076 прослушиваний\n"
     ]
    }
   ],
   "source": [
    "track_popularity = interactions['track_id'].value_counts().head(20)\n",
    "\n",
    "# Получаем названия треков\n",
    "track_names = catalog_names[catalog_names['id'].isin(track_popularity.index) & (catalog_names['type'] == 'track')]\n",
    "track_names_dict = dict(zip(track_names['id'], track_names['name']))\n",
    "\n",
    "# Создаем labels (если названия есть, иначе id)\n",
    "labels = [track_names_dict.get(tid, f\"Track {tid}\") for tid in track_popularity.index]\n",
    "\n",
    "plt.figure(figsize=(12, 8))\n",
    "plt.barh(range(len(track_popularity)), track_popularity.values)\n",
    "plt.yticks(range(len(track_popularity)), labels, fontsize=9)\n",
    "plt.xlabel('Количество прослушиваний')\n",
    "plt.title('Топ-20 самых популярных треков')\n",
    "plt.gca().invert_yaxis()\n",
    "plt.tight_layout()\n",
    "plt.show()\n",
    "\n",
    "print(f\"Самый популярный трек: {track_popularity.iloc[0]:,} прослушиваний\")"
   ]
  },
  {
   "cell_type": "markdown",
   "id": "b1c32a5a-d3be-4f96-8dd9-f7860951020c",
   "metadata": {},
   "source": [
    "### Наиболее популярные жанры"
   ]
  },
  {
   "cell_type": "code",
   "execution_count": 9,
   "id": "1bc50491-9235-4d3c-a6c2-297f7c05a959",
   "metadata": {},
   "outputs": [
    {
     "data": {
      "image/png": "[encoded data removed]",
      "text/plain": [
       "<Figure size 1200x800 with 1 Axes>"
      ]
     },
     "metadata": {
      "image/png": {
       "height": 789,
       "width": 1189
      }
     },
     "output_type": "display_data"
    }
   ],
   "source": [
    "# Разворачиваем жанры\n",
    "track_genre_map = tracks.explode('genres')[['track_id', 'genres']].dropna()\n",
    "\n",
    "# Merge с сэмплом\n",
    "genre_listens = interactions.merge(track_genre_map, on='track_id', how='left')\n",
    "genre_popularity = genre_listens['genres'].value_counts().head(20)\n",
    "\n",
    "# Получаем названия\n",
    "genre_names = catalog_names[catalog_names['id'].isin(genre_popularity.index) & (catalog_names['type'] == 'genre')]\n",
    "genre_names_dict = dict(zip(genre_names['id'], genre_names['name']))\n",
    "labels = [genre_names_dict.get(gid, f\"Genre {gid}\") for gid in genre_popularity.index]\n",
    "\n",
    "plt.figure(figsize=(12, 8))\n",
    "plt.barh(range(len(genre_popularity)), genre_popularity.values)\n",
    "plt.yticks(range(len(genre_popularity)), labels, fontsize=9)\n",
    "plt.xlabel('Количество прослушиваний (сэмпл 5М)')\n",
    "plt.title('Топ-20 самых популярных жанров')\n",
    "plt.gca().invert_yaxis()\n",
    "plt.tight_layout()\n",
    "plt.show()"
   ]
  },
  {
   "cell_type": "markdown",
   "id": "15254e66-e80e-473b-ba24-abebea5ccac7",
   "metadata": {},
   "source": [
    "### Треки, которые никто не прослушал. Конечно, покрытие не идуальное, но мы же резали данные."
   ]
  },
  {
   "cell_type": "code",
   "execution_count": 10,
   "id": "50bc50c6-2d83-4c7e-97fa-3e7627978438",
   "metadata": {},
   "outputs": [
    {
     "name": "stdout",
     "output_type": "stream",
     "text": [
      "Треков в каталоге: 1,000,000\n",
      "Треков с прослушиваниями: 724,595\n",
      "Треков БЕЗ прослушиваний: 275,405\n"
     ]
    }
   ],
   "source": [
    "listened_tracks = interactions['track_id'].unique()\n",
    "print(f\"Треков в каталоге: {len(tracks):,}\")\n",
    "print(f\"Треков с прослушиваниями: {len(listened_tracks):,}\")\n",
    "print(f\"Треков БЕЗ прослушиваний: {len(tracks) - len(listened_tracks):,}\")\n"
   ]
  },
  {
   "cell_type": "markdown",
   "id": "cb9e599d",
   "metadata": {},
   "source": [
    "Здесь можно сделать Restart Kernel."
   ]
  },
  {
   "cell_type": "markdown",
   "id": "338990c5",
   "metadata": {},
   "source": [
    "# === ЭТАП 3 ==="
   ]
  },
  {
   "cell_type": "markdown",
   "id": "ec33eade",
   "metadata": {},
   "source": [
    "# Сохранение данных"
   ]
  },
  {
   "cell_type": "code",
   "execution_count": 1,
   "id": "a19af43c",
   "metadata": {},
   "outputs": [
    {
     "name": "stderr",
     "output_type": "stream",
     "text": [
      "/home/mle-user/mle_projects/mle-project-sprint-4-v001/.venv/lib/python3.10/site-packages/tqdm/auto.py:21: TqdmWarning: IProgress not found. Please update jupyter and ipywidgets. See https://ipywidgets.readthedocs.io/en/stable/user_install.html\n",
      "  from .autonotebook import tqdm as notebook_tqdm\n"
     ]
    }
   ],
   "source": [
    "import logging\n",
    "import matplotlib.pyplot as plt\n",
    "import numpy as np\n",
    "import pandas as pd\n",
    "import matplotlib.pyplot as plt\n",
    "import seaborn as sns\n",
    "from sklearn.preprocessing import LabelEncoder\n",
    "import pickle\n",
    "from implicit.als import AlternatingLeastSquares\n",
    "from scipy.sparse import csr_matrix\n",
    "import os\n",
    "from catboost import CatBoostRanker, Pool\n",
    "from tqdm import tqdm\n",
    "import warnings\n",
    "warnings.filterwarnings(\"ignore\")\n",
    "\n",
    "%matplotlib inline\n",
    "%config InlineBackend.figure_format = 'png'\n",
    "%config InlineBackend.figure_format = 'retina'\n",
    "\n",
    "pd.set_option('display.max_columns', None)\n",
    "\n"
   ]
  },
  {
   "cell_type": "code",
   "execution_count": 2,
   "id": "0b1a4629",
   "metadata": {},
   "outputs": [],
   "source": [
    "\n",
    "items = pd.read_parquet('tracks_clean.parquet')\n",
    "catalog_names = pd.read_parquet('catalog_names_clean.parquet')\n",
    "events = pd.read_parquet('interactions_clean.parquet')\n"
   ]
  },
  {
   "cell_type": "code",
   "execution_count": 3,
   "id": "5a4c5de9",
   "metadata": {},
   "outputs": [
    {
     "data": {
      "text/plain": [
       "16272202"
      ]
     },
     "execution_count": 3,
     "metadata": {},
     "output_type": "execute_result"
    }
   ],
   "source": [
    "len(events)"
   ]
  },
  {
   "cell_type": "markdown",
   "id": "36f2931f",
   "metadata": {},
   "source": [
    "Сохраним данные в двух файлах в персональном S3-бакете по пути `recsys/data/`:\n",
    "- `items.parquet` — все данные о музыкальных треках,\n",
    "- `events.parquet` — все данные о взаимодействиях.\n"
   ]
  },
  {
   "cell_type": "code",
   "execution_count": 4,
   "id": "e071f540",
   "metadata": {},
   "outputs": [
    {
     "name": "stdout",
     "output_type": "stream",
     "text": [
      "Файлы загружены в S3\n"
     ]
    }
   ],
   "source": [
    "\n",
    "\n",
    "# Настройка для Yandex Cloud S3\n",
    "bucket_name = 's3-student-mle-20250729-0060996a6e-freetrack'\n",
    "\n",
    "storage_options = {\n",
    "    'key': 'YCAJE3Nlz8iDILW5VTYM1ihQB',\n",
    "    'secret': 'YCPjvS7uwhvJpUj3bKm8X-IX4QAwBIVsvX61IL44',\n",
    "    'client_kwargs': {\n",
    "        'endpoint_url': 'https://storage.yandexcloud.net'\n",
    "    }\n",
    "}\n",
    "\n",
    "# Загрузка в S3\n",
    "items.to_parquet(\n",
    "    f's3://{bucket_name}/recsys/data/items.parquet',\n",
    "    index=False,\n",
    "    storage_options=storage_options\n",
    ")\n",
    "\n",
    "events.to_parquet(\n",
    "    f's3://{bucket_name}/recsys/data/events.parquet',\n",
    "    index=False,\n",
    "    storage_options=storage_options\n",
    ")\n",
    "\n",
    "print(\"Файлы загружены в S3\")"
   ]
  },
  {
   "cell_type": "markdown",
   "id": "0d850a07-ef1e-462f-891a-1cf89f2e24ef",
   "metadata": {},
   "source": [
    "# Преобразование данных"
   ]
  },
  {
   "cell_type": "markdown",
   "id": "fabcf8d2-1192-4df5-b20b-fbb84689f57a",
   "metadata": {},
   "source": [
    "Преобразуем данные в формат, более пригодный для дальнейшего использования в расчётах рекомендаций. Сначала разделим на train/test."
   ]
  },
  {
   "cell_type": "code",
   "execution_count": 5,
   "id": "712290b8",
   "metadata": {},
   "outputs": [
    {
     "name": "stdout",
     "output_type": "stream",
     "text": [
      "2022-12-31 00:00:00\n",
      "2022-01-01 00:00:00\n"
     ]
    }
   ],
   "source": [
    "print(events['started_at'].max())\n",
    "print(events['started_at'].min())"
   ]
  },
  {
   "cell_type": "markdown",
   "id": "afcc3d81",
   "metadata": {},
   "source": [
    "# Разбиение данных"
   ]
  },
  {
   "cell_type": "markdown",
   "id": "fff7bb2d",
   "metadata": {},
   "source": [
    "Теперь разобьем на train, val,test и пропустим через энкодер для ALS"
   ]
  },
  {
   "cell_type": "code",
   "execution_count": 6,
   "id": "ce69e7fd",
   "metadata": {},
   "outputs": [
    {
     "name": "stdout",
     "output_type": "stream",
     "text": [
      "Train fit: 13,986,918 (до 2022-12-01)\n",
      "Train val: 1,261,169 (2022-12-01 - 2022-12-16)\n",
      "Test: 1,024,115 (с 2022-12-16)\n",
      "\n",
      "Уникальных пользователей: 100,000\n",
      "Уникальных треков: 724,595\n"
     ]
    }
   ],
   "source": [
    "# РАЗДЕЛЕНИЕ НА TRAIN_FIT, TRAIN_VAL, TEST\n",
    "val_date = pd.Timestamp('2022-12-01')\n",
    "test_date = pd.Timestamp('2022-12-16')\n",
    "\n",
    "train_fit = events[events['started_at'] < val_date].copy()\n",
    "train_val = events[(events['started_at'] >= val_date) & (events['started_at'] < test_date)].copy()\n",
    "test = events[events['started_at'] >= test_date].copy()\n",
    "\n",
    "print(f\"Train fit: {len(train_fit):,} (до {val_date.date()})\")\n",
    "print(f\"Train val: {len(train_val):,} ({val_date.date()} - {test_date.date()})\")\n",
    "print(f\"Test: {len(test):,} (с {test_date.date()})\")\n",
    "\n",
    "#  ЭНКОДИНГ НА ОСНОВЕ ВСЕХ ДАННЫХ\n",
    "user_encoder = LabelEncoder()\n",
    "user_encoder.fit(events['user_id'])\n",
    "\n",
    "track_encoder = LabelEncoder()\n",
    "track_encoder.fit(events['track_id'])\n",
    "\n",
    "# Применяем ко всем датасетам\n",
    "train_fit['user_id_enc'] = user_encoder.transform(train_fit['user_id'])\n",
    "train_fit['track_id_enc'] = track_encoder.transform(train_fit['track_id'])\n",
    "\n",
    "train_val['user_id_enc'] = user_encoder.transform(train_val['user_id'])\n",
    "train_val['track_id_enc'] = track_encoder.transform(train_val['track_id'])\n",
    "\n",
    "test['user_id_enc'] = user_encoder.transform(test['user_id'])\n",
    "test['track_id_enc'] = track_encoder.transform(test['track_id'])\n",
    "\n",
    "print(f\"\\nУникальных пользователей: {len(user_encoder.classes_):,}\")\n",
    "print(f\"Уникальных треков: {len(track_encoder.classes_):,}\")"
   ]
  },
  {
   "cell_type": "code",
   "execution_count": 7,
   "id": "61e179d9",
   "metadata": {},
   "outputs": [],
   "source": [
    "\n",
    "# Сохранить энкодеры\n",
    "with open('user_encoder.pkl', 'wb') as f:\n",
    "    pickle.dump(user_encoder, f)\n",
    "\n",
    "with open('track_encoder.pkl', 'wb') as f:\n",
    "    pickle.dump(track_encoder, f)"
   ]
  },
  {
   "cell_type": "markdown",
   "id": "9131c7e6-8852-4556-b510-51f7253cc299",
   "metadata": {},
   "source": [
    "# Топ популярных"
   ]
  },
  {
   "cell_type": "markdown",
   "id": "dd70d43a-88cc-4719-b291-feaed7136f30",
   "metadata": {},
   "source": [
    "Рассчитаем рекомендации как топ популярных."
   ]
  },
  {
   "cell_type": "code",
   "execution_count": 8,
   "id": "28886a9b",
   "metadata": {},
   "outputs": [],
   "source": [
    "bucket_name = 's3-student-mle-20250729-0060996a6e-freetrack'\n",
    "\n",
    "storage_options = {\n",
    "    'key': 'YCAJE3Nlz8iDILW5VTYM1ihQB',\n",
    "    'secret': 'YCPjvS7uwhvJpUj3bKm8X-IX4QAwBIVsvX61IL44',\n",
    "    'client_kwargs': {\n",
    "        'endpoint_url': 'https://storage.yandexcloud.net'\n",
    "    }\n",
    "}"
   ]
  },
  {
   "cell_type": "code",
   "execution_count": 9,
   "id": "ee45e200-b7d6-4f56-9077-aad431689b96",
   "metadata": {},
   "outputs": [
    {
     "name": "stdout",
     "output_type": "stream",
     "text": [
      "Топ популярных: 100 треков\n",
      "        track_id_enc  popularity  rank\n",
      "7314            7348        7807     1\n",
      "20767          20870        7192     2\n",
      "340012        349301        6844     3\n",
      "359665        369748        6544     4\n",
      "67024          67500        5957     5\n"
     ]
    }
   ],
   "source": [
    "# Топ-100 популярных треков из train_fit с закодированными ID\n",
    "top_popular = train_fit.groupby('track_id_enc').size().reset_index(name='popularity')\n",
    "top_popular = top_popular.sort_values('popularity', ascending=False).head(100)\n",
    "top_popular['rank'] = range(1, len(top_popular) + 1)\n",
    "\n",
    "# Сохранение\n",
    "top_popular.to_parquet(\n",
    "    f's3://{bucket_name}/recsys/recommendations/top_popular.parquet',\n",
    "    index=False,\n",
    "    storage_options=storage_options\n",
    ")\n",
    "print(f\"Топ популярных: {len(top_popular)} треков\")\n",
    "print(top_popular.head(5))"
   ]
  },
  {
   "cell_type": "markdown",
   "id": "2ad231f2-6158-421a-b7fa-01d8bc3ed572",
   "metadata": {},
   "source": [
    "# Персональные"
   ]
  },
  {
   "cell_type": "markdown",
   "id": "86159460-cd9d-4b63-8248-604ea3c9aebf",
   "metadata": {},
   "source": [
    "Рассчитаем персональные рекомендации."
   ]
  },
  {
   "cell_type": "code",
   "execution_count": 10,
   "id": "f8a874bb",
   "metadata": {},
   "outputs": [
    {
     "name": "stdout",
     "output_type": "stream",
     "text": [
      "\n",
      "Матрица: (100000, 724595)\n",
      "Заполненность: 0.0193%\n",
      "\n",
      "Обучение ALS...\n"
     ]
    },
    {
     "name": "stderr",
     "output_type": "stream",
     "text": [
      "100%|██████████| 15/15 [00:47<00:00,  3.14s/it]\n"
     ]
    },
    {
     "name": "stdout",
     "output_type": "stream",
     "text": [
      "\n",
      "Генерация рекомендаций...\n"
     ]
    },
    {
     "name": "stderr",
     "output_type": "stream",
     "text": [
      "Generating recommendations: 100%|██████████| 100000/100000 [14:50<00:00, 112.25it/s]\n"
     ]
    },
    {
     "name": "stdout",
     "output_type": "stream",
     "text": [
      "\n",
      "Персональные рекомендации: 10,000,000 записей\n",
      "Пользователей с рекомендациями: 100,000\n"
     ]
    }
   ],
   "source": [
    "# СОЗДАЁМ МАТРИЦУ ТОЛЬКО ИЗ TRAIN_FIT\n",
    "user_item_matrix_fit = csr_matrix(\n",
    "    (np.ones(len(train_fit)), (train_fit['user_id_enc'], train_fit['track_id_enc'])),\n",
    "    shape=(len(user_encoder.classes_), len(track_encoder.classes_))\n",
    ")\n",
    "\n",
    "print(f\"\\nМатрица: {user_item_matrix_fit.shape}\")\n",
    "print(f\"Заполненность: {user_item_matrix_fit.nnz / (user_item_matrix_fit.shape[0] * user_item_matrix_fit.shape[1]) * 100:.4f}%\")\n",
    "\n",
    "# ОБУЧАЕМ ALS\n",
    "model = AlternatingLeastSquares(\n",
    "    factors=64,\n",
    "    iterations=15,\n",
    "    regularization=0.01,\n",
    "    random_state=42\n",
    ")\n",
    "\n",
    "print(\"\\nОбучение ALS...\")\n",
    "model.fit(user_item_matrix_fit)\n",
    "\n",
    "# ГЕНЕРИРУЕМ РЕКОМЕНДАЦИИ ДЛЯ ВСЕХ ПОЛЬЗОВАТЕЛЕЙ\n",
    "print(\"\\nГенерация рекомендаций...\")\n",
    "user_ids_encoded = list(range(len(user_encoder.classes_)))\n",
    "\n",
    "personal_recs = []\n",
    "for user_id in tqdm(user_ids_encoded, desc=\"Generating recommendations\"):\n",
    "    recs = model.recommend(user_id, user_item_matrix_fit[user_id], N=100, filter_already_liked_items=True)\n",
    "    for rank, (track_id, score) in enumerate(zip(recs[0], recs[1]), 1):\n",
    "        personal_recs.append({'user_id_enc': user_id, 'track_id_enc': track_id, 'score': score, 'rank': rank})\n",
    "\n",
    "# ПРЕОБРАЗУЕМ В DATAFRAME\n",
    "personal_als = pd.DataFrame(personal_recs)\n",
    "\n",
    "print(f\"\\nПерсональные рекомендации: {len(personal_als):,} записей\")\n",
    "print(f\"Пользователей с рекомендациями: {personal_als['user_id_enc'].nunique():,}\")\n",
    "\n"
   ]
  },
  {
   "cell_type": "markdown",
   "id": "85317215",
   "metadata": {},
   "source": [
    "Такая заполненность в принципе типична для рекомендательных систем. Когда я брала 200 000 пользователей или 500 000, заполненность повышалась, метрики лучше, но это часы просчета, ВМ падает на каком-то этапе, поэтому остановилась на небольшой выборке в 100 000 пользователей.\n"
   ]
  },
  {
   "cell_type": "code",
   "execution_count": 11,
   "id": "725f7d98",
   "metadata": {},
   "outputs": [
    {
     "name": "stdout",
     "output_type": "stream",
     "text": [
      "Рекомендации ALS сохранены: 10,000,000 записей\n",
      "Колонки: ['user_id_enc', 'track_id_enc', 'score', 'rank', 'user_id', 'track_id']\n"
     ]
    }
   ],
   "source": [
    "# Добавляем оригинальные ID для безопасности\n",
    "personal_als['user_id'] = user_encoder.inverse_transform(personal_als['user_id_enc'])\n",
    "personal_als['track_id'] = track_encoder.inverse_transform(personal_als['track_id_enc'])\n",
    "\n",
    "# СОХРАНЯЕМ\n",
    "personal_als.to_parquet(\n",
    "    f's3://{bucket_name}/recsys/recommendations/personal_als.parquet',\n",
    "    index=False,\n",
    "    storage_options=storage_options\n",
    ")\n",
    "\n",
    "print(f\"Рекомендации ALS сохранены: {len(personal_als):,} записей\")\n",
    "print(f\"Колонки: {personal_als.columns.tolist()}\")"
   ]
  },
  {
   "cell_type": "markdown",
   "id": "5f09dc7e-7c91-4355-860a-b9cfb9f33f15",
   "metadata": {},
   "source": [
    "# Похожие"
   ]
  },
  {
   "cell_type": "markdown",
   "id": "1dfcb683-b440-40a8-9975-894156a53872",
   "metadata": {},
   "source": [
    "Рассчитаем похожие, они позже пригодятся для онлайн-рекомендаций."
   ]
  },
  {
   "cell_type": "code",
   "execution_count": 12,
   "id": "ce370904-4c49-4152-8706-416074ea9b9a",
   "metadata": {},
   "outputs": [
    {
     "name": "stderr",
     "output_type": "stream",
     "text": [
      "Generating similar tracks:   1%|▏         | 13/1000 [00:00<00:14, 69.74it/s]"
     ]
    },
    {
     "name": "stderr",
     "output_type": "stream",
     "text": [
      "Generating similar tracks: 100%|██████████| 1000/1000 [00:09<00:00, 106.09it/s]\n"
     ]
    },
    {
     "name": "stdout",
     "output_type": "stream",
     "text": [
      "Похожие треки: 10000 пар\n"
     ]
    }
   ],
   "source": [
    "# Похожие треки для топ-1000 популярных из train_fit\n",
    "top_tracks = train_fit['track_id_enc'].value_counts().head(1000).index\n",
    "similar_recs = []\n",
    "\n",
    "for track_id in tqdm(top_tracks, desc=\"Generating similar tracks\"):\n",
    "    similar_ids, similar_scores = model.similar_items(track_id, N=11)\n",
    "    # Пропускаем первый (сам трек)\n",
    "    for rank, (sim_track_id, score) in enumerate(zip(similar_ids[1:], similar_scores[1:]), 1):\n",
    "        similar_recs.append({'track_id_enc': track_id, 'similar_track_id_enc': sim_track_id, 'score': score, 'rank': rank})\n",
    "\n",
    "similar = pd.DataFrame(similar_recs)\n",
    "similar.to_parquet(\n",
    "    f's3://{bucket_name}/recsys/recommendations/similar.parquet',\n",
    "    index=False,\n",
    "    storage_options=storage_options\n",
    ")\n",
    "print(f\"Похожие треки: {len(similar)} пар\")"
   ]
  },
  {
   "cell_type": "markdown",
   "id": "0087a3e7-ca9f-42cd-944c-944222c1baef",
   "metadata": {},
   "source": [
    "# Построение признаков и ранжирование рекомендаций"
   ]
  },
  {
   "cell_type": "markdown",
   "id": "e82a32e1-b90b-4eaf-9439-fc8deab9f34b",
   "metadata": {},
   "source": [
    "Построим три признака, можно больше, для ранжирующей модели, и затем ранжирующую модель, чтобы сделать рекомендации более точными. Отранжируем рекомендации."
   ]
  },
  {
   "cell_type": "code",
   "execution_count": 14,
   "id": "edc14768",
   "metadata": {},
   "outputs": [],
   "source": [
    "bucket_name = 's3-student-mle-20250729-0060996a6e-freetrack'\n",
    "\n",
    "storage_options = {\n",
    "    'key': 'YCAJE3Nlz8iDILW5VTYM1ihQB',\n",
    "    'secret': 'YCPjvS7uwhvJpUj3bKm8X-IX4QAwBIVsvX61IL44',\n",
    "    'client_kwargs': {\n",
    "        'endpoint_url': 'https://storage.yandexcloud.net'\n",
    "    }\n",
    "}\n",
    "\n",
    "personal_als = pd.read_parquet(\n",
    "    f's3://{bucket_name}/recsys/recommendations/personal_als.parquet',\n",
    "    storage_options=storage_options\n",
    ")"
   ]
  },
  {
   "cell_type": "code",
   "execution_count": 15,
   "id": "79f1dd92-32a9-463d-827e-8bb9ee5bbb54",
   "metadata": {},
   "outputs": [
    {
     "name": "stdout",
     "output_type": "stream",
     "text": [
      "Позитивных примеров: 60938 (0.61%)\n",
      "0:\ttotal: 7.44s\tremaining: 12m 16s\n",
      "50:\ttotal: 6m 5s\tremaining: 5m 51s\n",
      "99:\ttotal: 11m 56s\tremaining: 0us\n",
      "Итоговые рекомендации сохранены: 10000000 записей\n",
      "Пользователей: 100000\n"
     ]
    }
   ],
   "source": [
    "# Подготовка данных для обучения ранжирующей модели\n",
    "train_for_ranking = personal_als.copy()\n",
    "\n",
    "# Фича 1: ALS score \n",
    "train_for_ranking['als_score'] = train_for_ranking['score']\n",
    "\n",
    "# Фича 2: Популярность трека\n",
    "track_popularity = train_fit.groupby('track_id_enc').size()\n",
    "train_for_ranking['track_popularity'] = train_for_ranking['track_id_enc'].map(track_popularity).fillna(0)\n",
    "\n",
    "# Фича 3: Активность пользователя\n",
    "user_activity = train_fit.groupby('user_id_enc').size()\n",
    "train_for_ranking['user_activity'] = train_for_ranking['user_id_enc'].map(user_activity).fillna(0)\n",
    "\n",
    "# Создаём таргет из validation части \n",
    "val_listened = train_val.groupby(['user_id_enc', 'track_id_enc']).size().reset_index(name='listened')\n",
    "train_for_ranking = train_for_ranking.merge(\n",
    "    val_listened, \n",
    "    on=['user_id_enc', 'track_id_enc'], \n",
    "    how='left'\n",
    ")\n",
    "train_for_ranking['target'] = train_for_ranking['listened'].fillna(0).astype(int)\n",
    "\n",
    "print(f\"Позитивных примеров: {train_for_ranking['target'].sum()} ({train_for_ranking['target'].mean()*100:.2f}%)\")\n",
    "\n",
    "# Обучаем CatBoost Ranker\n",
    "features = ['als_score', 'track_popularity', 'user_activity']\n",
    "\n",
    "ranker = CatBoostRanker(\n",
    "    iterations=100,\n",
    "    depth=6,\n",
    "    learning_rate=0.1,\n",
    "    verbose=50\n",
    ")\n",
    "\n",
    "ranker.fit(\n",
    "    train_for_ranking[features],\n",
    "    train_for_ranking['target'],\n",
    "    group_id=train_for_ranking['user_id_enc']\n",
    ")\n",
    "\n",
    "# Предсказываем финальные скоры\n",
    "train_for_ranking['final_score'] = ranker.predict(train_for_ranking[features])\n",
    "\n",
    "# Сортируем по пользователю и скору\n",
    "recommendations = train_for_ranking.sort_values(\n",
    "    ['user_id_enc', 'final_score'], \n",
    "    ascending=[True, False]\n",
    ")\n",
    "\n",
    "# Берём топ-100 для каждого пользователя\n",
    "recommendations = recommendations.groupby('user_id_enc').head(100).reset_index(drop=True)\n",
    "\n",
    "# Сохраняем\n",
    "recommendations[['user_id_enc', 'track_id_enc', 'final_score']].to_parquet(\n",
    "    f's3://{bucket_name}/recsys/recommendations/recommendations.parquet',\n",
    "    index=False,\n",
    "    storage_options=storage_options\n",
    ")\n",
    "\n",
    "print(f\"Итоговые рекомендации сохранены: {len(recommendations)} записей\")\n",
    "print(f\"Пользователей: {recommendations['user_id_enc'].nunique()}\")"
   ]
  },
  {
   "cell_type": "markdown",
   "id": "b3c84071-45b5-4a15-a683-e0ab034a3128",
   "metadata": {},
   "source": [
    "# Оценка качества"
   ]
  },
  {
   "cell_type": "markdown",
   "id": "1b107fe4-554e-42b1-87d9-c435a52bb77a",
   "metadata": {},
   "source": [
    "Проверим оценку качества трёх типов рекомендаций: \n",
    "\n",
    "- топ популярных,\n",
    "- персональных, полученных при помощи ALS,\n",
    "- итоговых\n",
    "  \n",
    "по четырем метрикам: recall, precision, coverage, novelty."
   ]
  },
  {
   "cell_type": "code",
   "execution_count": 16,
   "id": "8916fbf4",
   "metadata": {},
   "outputs": [],
   "source": [
    "# Функции для метрик\n",
    "def recall_at_k(recommended, actual, k=100):\n",
    "    \"\"\"Доля релевантных треков в топ-k рекомендаций\"\"\"\n",
    "    recommended_k = set(recommended[:k])\n",
    "    actual_set = set(actual)\n",
    "    if len(actual_set) == 0:\n",
    "        return 0\n",
    "    return len(recommended_k & actual_set) / len(actual_set)\n",
    "\n",
    "def precision_at_k(recommended, actual, k=100):\n",
    "    \"\"\"Доля релевантных среди рекомендованных\"\"\"\n",
    "    recommended_k = set(recommended[:k])\n",
    "    actual_set = set(actual)\n",
    "    if len(recommended_k) == 0:\n",
    "        return 0\n",
    "    return len(recommended_k & actual_set) / len(recommended_k)\n",
    "\n",
    "def coverage(recommended_tracks, all_tracks):\n",
    "    \"\"\"Покрытие каталога\"\"\"\n",
    "    return len(set(recommended_tracks)) / len(set(all_tracks))\n",
    "\n",
    "def novelty(recommended_tracks, track_popularity):\n",
    "    \"\"\"Новизна: средняя популярность рекомендованных треков (меньше = новее)\"\"\"\n",
    "    return np.mean([track_popularity.get(t, 0) for t in recommended_tracks])\n",
    "\n",
    "# Подготовка данных для метрик\n",
    "track_popularity_dict = train_fit['track_id_enc'].value_counts().to_dict()\n",
    "all_tracks = train_fit['track_id_enc'].unique()\n",
    "\n",
    "# Для каждого пользователя в test собираем что он слушал\n",
    "test_user_tracks = test.groupby('user_id_enc')['track_id_enc'].apply(list).to_dict()"
   ]
  },
  {
   "cell_type": "code",
   "execution_count": 17,
   "id": "94d6f388-aecb-443e-8647-14014e932d4d",
   "metadata": {},
   "outputs": [
    {
     "name": "stdout",
     "output_type": "stream",
     "text": [
      "ТОП ПОПУЛЯРНЫХ\n",
      "Recall@100: 0.0232\n",
      "Precision@100: 0.0033\n",
      "Coverage: 0.0001\n",
      "Novelty: 4156\n"
     ]
    }
   ],
   "source": [
    "# Подготовка данных для метрик\n",
    "track_popularity_dict = train_fit['track_id_enc'].value_counts().to_dict()\n",
    "all_tracks = train_fit['track_id_enc'].unique()\n",
    "\n",
    "# Для каждого пользователя в test собираем что он слушал\n",
    "test_user_tracks = test.groupby('user_id_enc')['track_id_enc'].apply(list).to_dict()\n",
    "\n",
    "# ТОП ПОПУЛЯРНЫХ\n",
    "top_popular_list = top_popular['track_id_enc'].values\n",
    "recalls_pop, precisions_pop = [], []\n",
    "\n",
    "for user_id, actual in test_user_tracks.items():\n",
    "    recalls_pop.append(recall_at_k(top_popular_list, actual))\n",
    "    precisions_pop.append(precision_at_k(top_popular_list, actual))\n",
    "\n",
    "print(\"ТОП ПОПУЛЯРНЫХ\")\n",
    "print(f\"Recall@100: {np.mean(recalls_pop):.4f}\")\n",
    "print(f\"Precision@100: {np.mean(precisions_pop):.4f}\")\n",
    "print(f\"Coverage: {coverage(top_popular_list, all_tracks):.4f}\")\n",
    "print(f\"Novelty: {novelty(top_popular_list, track_popularity_dict):.0f}\")"
   ]
  },
  {
   "cell_type": "markdown",
   "id": "292077f9",
   "metadata": {},
   "source": [
    "Ну... от baseline в принципе это и ожидалось. Одинаковые рекомендации для всех.\n",
    "\n",
    "Recall 2.32%: находим только 2.5% того, что люди реально слушают\n",
    "\n",
    "Precision 0.33%: из 100 рекомендаций релевантны меньше 1 трека\n",
    "\n",
    "Coverage 0.01%: рекомендуем 100 треков из ~725K каталога\n",
    "\n",
    "Novelty 4156: только популярные хиты\n"
   ]
  },
  {
   "cell_type": "code",
   "execution_count": 18,
   "id": "3b7688be",
   "metadata": {},
   "outputs": [
    {
     "name": "stderr",
     "output_type": "stream",
     "text": [
      "Evaluating ALS: 100%|██████████| 57090/57090 [10:11<00:00, 93.43it/s] \n"
     ]
    },
    {
     "name": "stdout",
     "output_type": "stream",
     "text": [
      "\n",
      "ПЕРСОНАЛЬНЫЕ ALS\n",
      "Recall@100: 0.0586\n",
      "Precision@100: 0.0030\n",
      "Coverage: 0.0170\n",
      "Novelty: 1741\n"
     ]
    }
   ],
   "source": [
    "\n",
    "# ПЕРСОНАЛЬНЫЕ ALS\n",
    "recalls_als, precisions_als = [], []\n",
    "all_als_recs = []\n",
    "\n",
    "for user_id, actual in tqdm(test_user_tracks.items(), desc=\"Evaluating ALS\"):\n",
    "    user_recs = personal_als[personal_als['user_id_enc'] == user_id]['track_id_enc'].values\n",
    "    all_als_recs.extend(user_recs)\n",
    "    recalls_als.append(recall_at_k(user_recs, actual))\n",
    "    precisions_als.append(precision_at_k(user_recs, actual))\n",
    "\n",
    "print(\"\\nПЕРСОНАЛЬНЫЕ ALS\")\n",
    "print(f\"Recall@100: {np.mean(recalls_als):.4f}\")\n",
    "print(f\"Precision@100: {np.mean(precisions_als):.4f}\")\n",
    "print(f\"Coverage: {coverage(all_als_recs, all_tracks):.4f}\")\n",
    "print(f\"Novelty: {novelty(all_als_recs, track_popularity_dict):.0f}\")"
   ]
  },
  {
   "cell_type": "markdown",
   "id": "0fa040a5",
   "metadata": {},
   "source": [
    "ALS показывает улучшение:\n",
    "\n",
    "Recall 5.86%: находим в 2.4 раза больше релевантных треков (+140%)\n",
    "Precision 0.30%: немного упал, но это нормально при росте разнообразия\n",
    "Coverage 1.70%: рекомендуем в 170 раз больше уникальных треков (12,300 вместо 100)\n",
    "Novelty 1741: в 2.4 раза меньше популярности = более редкие и интересные треки\n",
    "\n",
    "Персонализация работает! Каждый пользователь получает более индивидуальные рекомендации."
   ]
  },
  {
   "cell_type": "code",
   "execution_count": 19,
   "id": "26df411f-14c1-4848-8797-f37afe449cc6",
   "metadata": {},
   "outputs": [
    {
     "name": "stderr",
     "output_type": "stream",
     "text": [
      "Evaluating Ranked: 100%|██████████| 57090/57090 [10:00<00:00, 95.08it/s] \n"
     ]
    },
    {
     "name": "stdout",
     "output_type": "stream",
     "text": [
      "\n",
      "ИТОГОВЫЕ РЕКОМЕНДАЦИИ\n",
      "Recall@100: 0.0586\n",
      "Precision@100: 0.0030\n",
      "Coverage: 0.0170\n",
      "Novelty: 1741\n"
     ]
    }
   ],
   "source": [
    "# ИТОГОВЫЕ (РАНЖИРОВАННЫЕ)\n",
    "recalls_final, precisions_final = [], []\n",
    "all_final_recs = []\n",
    "\n",
    "for user_id, actual in tqdm(test_user_tracks.items(), desc=\"Evaluating Ranked\"):\n",
    "    user_recs = recommendations[recommendations['user_id_enc'] == user_id].sort_values('final_score', ascending=False)['track_id_enc'].values\n",
    "    all_final_recs.extend(user_recs)\n",
    "    recalls_final.append(recall_at_k(user_recs, actual))\n",
    "    precisions_final.append(precision_at_k(user_recs, actual))\n",
    "\n",
    "print(\"\\nИТОГОВЫЕ РЕКОМЕНДАЦИИ\")\n",
    "print(f\"Recall@100: {np.mean(recalls_final):.4f}\")\n",
    "print(f\"Precision@100: {np.mean(precisions_final):.4f}\")\n",
    "print(f\"Coverage: {coverage(all_final_recs, all_tracks):.4f}\")\n",
    "print(f\"Novelty: {novelty(all_final_recs, track_popularity_dict):.0f}\")"
   ]
  },
  {
   "cell_type": "markdown",
   "id": "7ab881e7",
   "metadata": {},
   "source": [
    "CatBoost не улучшил метрики. Все показатели идентичны ALS. Попробуем улучшить catboost, задействовав жанры и артистов. "
   ]
  },
  {
   "cell_type": "code",
   "execution_count": 20,
   "id": "65b160f2",
   "metadata": {},
   "outputs": [
    {
     "name": "stdout",
     "output_type": "stream",
     "text": [
      "Колонки в items: ['track_id', 'albums', 'artists', 'genres']\n"
     ]
    },
    {
     "name": "stdout",
     "output_type": "stream",
     "text": [
      "Вычисляем genre_match...\n",
      "\n",
      "genre_match != 0: 6077502\n",
      "n_genres != 0: 9999717\n",
      "n_artists != 0: 10000000\n"
     ]
    }
   ],
   "source": [
    "# НОВЫЕ СИЛЬНЫЕ ФИЧИ\n",
    "print(\"Колонки в items:\", items.columns.tolist())\n",
    "\n",
    "# Добавляем энкодинг только для известных треков\n",
    "known_tracks = set(track_encoder.classes_)\n",
    "items_filtered = items[items['track_id'].isin(known_tracks)].copy()\n",
    "items_filtered['track_id_enc'] = track_encoder.transform(items_filtered['track_id'])\n",
    "\n",
    "train_for_ranking = train_for_ranking.merge(\n",
    "    items_filtered[['track_id_enc', 'genres', 'artists']], \n",
    "    on='track_id_enc', \n",
    "    how='left'\n",
    ")\n",
    "\n",
    "# Конвертируем numpy arrays в Python lists СРАЗУ после merge\n",
    "train_for_ranking['genres'] = train_for_ranking['genres'].apply(lambda x: list(x) if hasattr(x, '__iter__') and not isinstance(x, str) else [])\n",
    "train_for_ranking['artists'] = train_for_ranking['artists'].apply(lambda x: list(x) if hasattr(x, '__iter__') and not isinstance(x, str) else [])\n",
    "\n",
    "# Любимые жанры пользователя\n",
    "user_genres = train_fit.merge(items_filtered[['track_id_enc', 'genres']], on='track_id_enc')\n",
    "user_top_genres = user_genres.explode('genres').groupby('user_id_enc')['genres'].apply(\n",
    "    lambda x: set(x.value_counts().head(3).index)\n",
    ").to_dict()\n",
    "\n",
    "# Считаем фичи ОДИН РАЗ\n",
    "train_for_ranking['n_genres'] = train_for_ranking['genres'].str.len()\n",
    "train_for_ranking['n_artists'] = train_for_ranking['artists'].str.len()\n",
    "\n",
    "def genre_match(row):\n",
    "    user_favs = user_top_genres.get(row['user_id_enc'], set())\n",
    "    track_genres = set(row['genres'])\n",
    "    return len(user_favs & track_genres)\n",
    "\n",
    "print(\"Вычисляем genre_match...\")\n",
    "train_for_ranking['genre_match'] = train_for_ranking.apply(genre_match, axis=1)\n",
    "\n",
    "# Проверка\n",
    "print(f\"\\ngenre_match != 0: {(train_for_ranking['genre_match'] != 0).sum()}\")\n",
    "print(f\"n_genres != 0: {(train_for_ranking['n_genres'] != 0).sum()}\")\n",
    "print(f\"n_artists != 0: {(train_for_ranking['n_artists'] != 0).sum()}\")\n",
    "\n",
    "features = ['als_score', 'track_popularity', 'user_activity', 'genre_match', 'n_genres', 'n_artists']"
   ]
  },
  {
   "cell_type": "code",
   "execution_count": 21,
   "id": "6e184431",
   "metadata": {},
   "outputs": [
    {
     "name": "stdout",
     "output_type": "stream",
     "text": [
      "Обучение CatBoost с новыми фичами...\n",
      "0:\ttotal: 7.24s\tremaining: 11m 56s\n",
      "10:\ttotal: 1m 18s\tremaining: 10m 32s\n",
      "20:\ttotal: 2m 28s\tremaining: 9m 19s\n",
      "30:\ttotal: 3m 39s\tremaining: 8m 9s\n",
      "40:\ttotal: 4m 50s\tremaining: 6m 58s\n",
      "50:\ttotal: 6m 1s\tremaining: 5m 47s\n",
      "60:\ttotal: 7m 11s\tremaining: 4m 35s\n",
      "70:\ttotal: 8m 21s\tremaining: 3m 24s\n",
      "80:\ttotal: 9m 31s\tremaining: 2m 14s\n",
      "90:\ttotal: 10m 41s\tremaining: 1m 3s\n",
      "99:\ttotal: 11m 44s\tremaining: 0us\n",
      "\n",
      "FEATURE IMPORTANCES \n",
      "als_score: 0.01%\n",
      "track_popularity: 0.02%\n",
      "user_activity: 0.00%\n",
      "genre_match: 0.01%\n",
      "n_genres: 0.00%\n",
      "n_artists: 0.00%\n",
      "\n",
      "Обновленные рекомендации: 10000000 записей\n"
     ]
    }
   ],
   "source": [
    "\n",
    "# Обучаем CatBoost с новыми фичами\n",
    "features = ['als_score', 'track_popularity', 'user_activity', 'genre_match', 'n_genres', 'n_artists']\n",
    "\n",
    "ranker = CatBoostRanker(\n",
    "    iterations=100,\n",
    "    depth=6, \n",
    "    learning_rate=0.1,\n",
    "    verbose=10\n",
    ")\n",
    "\n",
    "print(\"Обучение CatBoost с новыми фичами...\")\n",
    "ranker.fit(\n",
    "    train_for_ranking[features],\n",
    "    train_for_ranking['target'],\n",
    "    group_id=train_for_ranking['user_id_enc']\n",
    ")\n",
    "\n",
    "# Проверяем feature importance\n",
    "pool = Pool(\n",
    "    data=train_for_ranking[features],\n",
    "    label=train_for_ranking['target'],\n",
    "    group_id=train_for_ranking['user_id_enc']\n",
    ")\n",
    "\n",
    "importances = ranker.get_feature_importance(pool)\n",
    "print(\"\\nFEATURE IMPORTANCES \")\n",
    "for feat, imp in zip(features, importances):\n",
    "    print(f\"{feat}: {imp:.2f}%\")\n",
    "\n",
    "# Предсказываем финальные скоры\n",
    "train_for_ranking['final_score'] = ranker.predict(train_for_ranking[features])\n",
    "\n",
    "# Сортируем и берём топ-100\n",
    "recommendations = train_for_ranking.sort_values(['user_id_enc', 'final_score'], ascending=[True, False])\n",
    "recommendations = recommendations.groupby('user_id_enc').head(100).reset_index(drop=True)\n",
    "\n",
    "# Сохраняем\n",
    "recommendations[['user_id_enc', 'track_id_enc', 'final_score']].to_parquet(\n",
    "    f's3://{bucket_name}/recsys/recommendations/recommendations.parquet',\n",
    "    index=False,\n",
    "    storage_options=storage_options\n",
    ")\n",
    "\n",
    "print(f\"\\nОбновленные рекомендации: {len(recommendations)} записей\")"
   ]
  },
  {
   "cell_type": "code",
   "execution_count": 22,
   "id": "4d90a80e",
   "metadata": {},
   "outputs": [
    {
     "name": "stderr",
     "output_type": "stream",
     "text": [
      "Evaluating Ranked:   0%|          | 22/57090 [00:00<09:18, 102.21it/s]"
     ]
    },
    {
     "name": "stderr",
     "output_type": "stream",
     "text": [
      "Evaluating Ranked: 100%|██████████| 57090/57090 [09:07<00:00, 104.37it/s]\n"
     ]
    },
    {
     "name": "stdout",
     "output_type": "stream",
     "text": [
      "\n",
      "ИТОГОВЫЕ РЕКОМЕНДАЦИИ\n",
      "Recall@100: 0.0586\n",
      "Precision@100: 0.0030\n",
      "Coverage: 0.0170\n",
      "Novelty: 1741\n"
     ]
    }
   ],
   "source": [
    "# ИТОГОВЫЕ (РАНЖИРОВАННЫЕ)\n",
    "recalls_final, precisions_final = [], []\n",
    "all_final_recs = []\n",
    "\n",
    "for user_id, actual in tqdm(test_user_tracks.items(), desc=\"Evaluating Ranked\"):\n",
    "    user_recs = recommendations[recommendations['user_id_enc'] == user_id].sort_values('final_score', ascending=False)['track_id_enc'].values\n",
    "    all_final_recs.extend(user_recs)\n",
    "    recalls_final.append(recall_at_k(user_recs, actual))\n",
    "    precisions_final.append(precision_at_k(user_recs, actual))\n",
    "\n",
    "print(\"\\nИТОГОВЫЕ РЕКОМЕНДАЦИИ\")\n",
    "print(f\"Recall@100: {np.mean(recalls_final):.4f}\")\n",
    "print(f\"Precision@100: {np.mean(precisions_final):.4f}\")\n",
    "print(f\"Coverage: {coverage(all_final_recs, all_tracks):.4f}\")\n",
    "print(f\"Novelty: {novelty(all_final_recs, track_popularity_dict):.0f}\")"
   ]
  },
  {
   "cell_type": "markdown",
   "id": "de9b7be3",
   "metadata": {},
   "source": [
    "Как и ожидалось из-за нулевых Feature Importance, ничего не поменялось. 0.61% позитивных примеров слишком мало. При таком дисбалансе CatBoost не обучается паттернам. На текущих мощностях оставляем результат от ALS."
   ]
  },
  {
   "cell_type": "markdown",
   "id": "f1c8d38c-32b0-46a4-96f0-cd01dac708bc",
   "metadata": {},
   "source": [
    "# === Выводы, метрики ==="
   ]
  },
  {
   "cell_type": "markdown",
   "id": "f7d7d5d8-7d1e-4fdf-a6cd-83e5ce92c684",
   "metadata": {},
   "source": [
    "Основные выводы при работе над расчётом рекомендаций, рассчитанные метрики."
   ]
  },
  {
   "cell_type": "markdown",
   "id": "2dbf06f3",
   "metadata": {},
   "source": [
    "1. Топ популярные \n",
    "\n",
    "\n",
    "Выдает динаковые рекомендации для всех пользователей, находятся только 2.5% релевантных треков, покрывает 0.01% каталога, рекомендует только хиты.\n",
    "В целом, слабо.\n",
    "\n",
    "2. Персональные ALS\n",
    "\n",
    "Recall вырос в 2.4 раза, т.е. находим почти в 3 раза больше релевантных треков, Coverage вырос в 170 раз (рекомендуем 12,300 уникальных треков вместо 100), Novelty снизился в 2.4 раза (предлагаем более редкие и интересные треки).\n",
    "В целом, персонализация работает и ее можно улучшить на более мощной машине.\n",
    "\n",
    "3. CatBoost ранжирование\n",
    "\n",
    "Не улучшило метрики скорее всего из-за  всего 0.61% позитивных примеров. Это слишком мало для обучения.\n",
    "Добавленные фичи (жанры, артисты) не усилил сигнал.\n",
    "\n",
    "\n",
    "Итоговое решение:\n",
    "Использовать персональные ALS рекомендации как основную модель\n",
    "\n",
    "Для дальнейшего улучшения скорее всего нужны дополнительные данные (время прослушивания, лайки, добавления в избранные или свои альбомы), или более мощные вычислительные ресурсы."
   ]
  }
 ],
 "metadata": {
  "kernelspec": {
   "display_name": ".venv (3.10.12)",
   "language": "python",
   "name": "python3"
  },
  "language_info": {
   "codemirror_mode": {
    "name": "ipython",
    "version": 3
   },
   "file_extension": ".py",
   "mimetype": "text/x-python",
   "name": "python",
   "nbconvert_exporter": "python",
   "pygments_lexer": "ipython3",
   "version": "3.10.12"
  }
 },
 "nbformat": 4,
 "nbformat_minor": 5
}
